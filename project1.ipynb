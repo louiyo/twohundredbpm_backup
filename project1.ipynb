{
 "cells": [
  {
   "cell_type": "code",
   "execution_count": 55,
   "metadata": {},
   "outputs": [
    {
     "name": "stdout",
     "output_type": "stream",
     "text": [
      "The autoreload extension is already loaded. To reload it, use:\n",
      "  %reload_ext autoreload\n"
     ]
    }
   ],
   "source": [
    "# Useful starting lines\n",
    "%matplotlib inline\n",
    "import numpy as np\n",
    "import matplotlib.pyplot as plt\n",
    "%load_ext autoreload\n",
    "%autoreload 2\n",
    "\n",
    "from proj1_helpers import *\n",
    "from helpers import *\n",
    "from implementations import *\n",
    "from cost import *\n",
    "import math\n",
    "from gradients import *\n",
    "from preprocessing import *\n",
    "from cross_validation import *"
   ]
  },
  {
   "cell_type": "markdown",
   "metadata": {},
   "source": [
    "## Load the training data into feature matrix, class labels, and event ids:"
   ]
  },
  {
   "cell_type": "code",
   "execution_count": 113,
   "metadata": {},
   "outputs": [
    {
     "name": "stdout",
     "output_type": "stream",
     "text": [
      "4\n"
     ]
    }
   ],
   "source": [
    "from proj1_helpers import *\n",
    "DATA_TRAIN_PATH = 'Data/train.csv' # TODO: download train data and supply path here \n",
    "y, tX, ids = load_csv_data(DATA_TRAIN_PATH)"
   ]
  },
  {
   "cell_type": "markdown",
   "metadata": {},
   "source": [
    "## Generate predictions and save ouput in csv format for submission:"
   ]
  },
  {
   "cell_type": "code",
   "execution_count": 114,
   "metadata": {},
   "outputs": [
    {
     "name": "stdout",
     "output_type": "stream",
     "text": [
      "4\n"
     ]
    }
   ],
   "source": [
    "DATA_TEST_PATH = 'Data/test.csv' # TODO: download train data and supply path here \n",
    "_, tX_test, ids_test = load_csv_data(DATA_TEST_PATH)"
   ]
  },
  {
   "cell_type": "code",
   "execution_count": 150,
   "metadata": {},
   "outputs": [
    {
     "name": "stdout",
     "output_type": "stream",
     "text": [
      "350000\n"
     ]
    }
   ],
   "source": [
    "minimums = []\n",
    "for jet_num in range(len(ids)):\n",
    "    minimums.append(ids_test[jet_num].min())\n",
    "the_minimum = min(minimums)\n",
    "print(the_minimum)"
   ]
  },
  {
   "cell_type": "code",
   "execution_count": 151,
   "metadata": {},
   "outputs": [],
   "source": [
    "tX_rename_after = tX.copy()\n",
    "tX_test_rename_after = tX_test.copy()\n"
   ]
  },
  {
   "cell_type": "code",
   "execution_count": 152,
   "metadata": {},
   "outputs": [],
   "source": [
    "\n",
    "tX_rename_after = remove_non_defined_columns(tX_rename_after)\n",
    "tX_test_rename_after = remove_non_defined_columns(tX_test_rename_after)\n"
   ]
  },
  {
   "cell_type": "code",
   "execution_count": 138,
   "metadata": {},
   "outputs": [
    {
     "name": "stdout",
     "output_type": "stream",
     "text": [
      "[[False False False ... False False False]\n",
      " [False False False ... False False False]\n",
      " [False False False ... False False False]\n",
      " ...\n",
      " [False False False ... False False False]\n",
      " [False False False ... False False False]\n",
      " [False False False ... False False False]]\n"
     ]
    }
   ],
   "source": [
    "print(np.isnan(tX_rename_after[1]))"
   ]
  },
  {
   "cell_type": "code",
   "execution_count": 250,
   "metadata": {},
   "outputs": [
    {
     "name": "stdout",
     "output_type": "stream",
     "text": [
      "beginning model  1\n",
      "mean for  0.001009312   0.8441243882177497\n",
      "hello  0.001009312\n",
      "mean for  0.0011   0.8441043708025985\n",
      "for model  1  best parameters are :\n",
      "degree :  11  lambda :  0.001009312\n"
     ]
    }
   ],
   "source": [
    "# initializing prediction arrays\n",
    "y_pred = []\n",
    "y_total = np.zeros(len(tX_test[0]) + len(tX_test[1]) + len(tX_test[2]) + len(tX_test[3]))\n",
    "\n",
    "#setting up parameters\n",
    "degrees = [11, 12, 13, 12]\n",
    "lambdas = [0.001009312, 0.001009312, 1.1212e-05, 0.0000696969]\n",
    "\n",
    "\n",
    "for idx in [0]: #range(len(tX_rename_after)):\n",
    "    print(\"beginning model \", idx+1)\n",
    "    \n",
    "    # initializing the prediction vector :\n",
    "    y_pred_ = np.zeros(len(tX_rename_after[idx]))\n",
    "    \n",
    "\n",
    "    # extracting the values of group idx :\n",
    "    train_x_jet_ = tX_rename_after[idx]\n",
    "    train_y_jet_ = y[idx]\n",
    "    test_x_jet_ = tX_test_rename_after[idx]\n",
    "    \n",
    "\n",
    "    # Removing additional outliers :\n",
    "    train_selected_x_jet = replace_non_defined(train_x_jet_)\n",
    "    test_selected_x_jet = replace_non_defined(test_x_jet_)\n",
    "    \n",
    "    train_selected_x_jet = train_selected_x_jet[:, np.nanstd(train_selected_x_jet, axis = 0) != 0]\n",
    "    test_selected_x_jet = test_selected_x_jet[:, np.nanstd(test_selected_x_jet, axis = 0) != 0]\n",
    "    \n",
    "    \"\"\" i=0\n",
    "    means = np.mean(train_selected_x_jet, axis = 0)\n",
    "    for mean in means:\n",
    "        print(mean)\n",
    "        i += 1\n",
    "    print(i)\"\"\"\n",
    "        \n",
    "    # standardize :\n",
    "    tX_train_std, _, _ = standardize(train_selected_x_jet)\n",
    "    tX_test_std, _, _ = standardize(test_selected_x_jet)\n",
    "    \n",
    "    # Polynomial feature expansion :\n",
    "    \"\"\"tX_train_poly = polynomial_expansion(tX_train_std, degrees[idx])\n",
    "    tX_test_poly = polynomial_expansion(tX_test_std, degrees[idx])\n",
    "\n",
    "    w_, loss_ = ridge_regression(train_y_jet_, tX_train_poly, lambdas[idx])\"\"\"\n",
    "    \n",
    "    _, best_param = cross_validation(train_y_jet_, tX_train_std, w_, degrees = [11],\n",
    "                     lambdas=[0.001009312, 0.0011])\n",
    "    \n",
    "    \n",
    "    print(\"for model \", idx+1, \" best parameters are :\")\n",
    "    print(\"degree : \", best_param[0], \" lambda : \", best_param[1])\n",
    "    \n",
    "    #accuracy_ = compute_accuracy(train_y_jet_, tX_train_poly, w_)\n",
    "    #print('The accuracy of model {} is equal to {}'.format(int(idx),accuracy_))\n",
    "\n",
    "    # Computing test accuracy : (To be changed -> à mettre dans une nouvelle boucle)\n",
    "                                                \n",
    "    y_pred_jet = predict_labels(w_, tX_test_poly)\n",
    "    \n",
    "    y_pred.append(y_pred_jet)"
   ]
  },
  {
   "cell_type": "code",
   "execution_count": 165,
   "metadata": {},
   "outputs": [
    {
     "name": "stdout",
     "output_type": "stream",
     "text": [
      "[-1. -1. -1. -1.  1. -1. -1.  1. -1. -1.  1.  1.  1.  1.  1. -1. -1. -1.\n",
      "  1. -1. -1. -1.  1. -1.  1. -1. -1. -1.  1.  1.  1. -1. -1. -1. -1.  1.\n",
      " -1. -1. -1.  1. -1.  1. -1.  1. -1.  1. -1. -1.  1.  1. -1. -1. -1. -1.\n",
      " -1. -1. -1. -1. -1. -1.]\n"
     ]
    }
   ],
   "source": [
    "print(y_total[40:100])"
   ]
  },
  {
   "cell_type": "code",
   "execution_count": 166,
   "metadata": {},
   "outputs": [
    {
     "name": "stdout",
     "output_type": "stream",
     "text": [
      "568238\n",
      "568238\n"
     ]
    },
    {
     "data": {
      "text/plain": [
       "'\\nà faire : faire correspondre les résultats de prédictions correspondant à \\nchaque type de particule aux index correspondants dans le y_total de taille 250k\\n-> peut-être en déduisant la valeur du id zéro avec la valeur de ids[jet_num][j]\\n'"
      ]
     },
     "execution_count": 166,
     "metadata": {},
     "output_type": "execute_result"
    }
   ],
   "source": [
    "\n",
    "y_total = np.zeros(len(ids_test[0]) + len(ids_test[1]) + len(ids_test[2]) + len(ids_test[3]))\n",
    "\n",
    "print(len(y_pred[0]) + len(y_pred[1]) + len(y_pred[2]) + len(y_pred[3]))\n",
    "print(len(y_total))\n",
    "\n",
    "for jet_num in range(len(y)):\n",
    "    for j in range(len(y_pred[jet_num])):\n",
    "        y_total[ids_test[jet_num][j] - the_minimum] = y_pred[jet_num][j]\n",
    "        \n",
    "\"\"\"\n",
    "à faire : faire correspondre les résultats de prédictions correspondant à \n",
    "chaque type de particule aux index correspondants dans le y_total de taille 250k\n",
    "-> peut-être en déduisant la valeur du id zéro avec la valeur de ids[jet_num][j]\n",
    "\"\"\"\n"
   ]
  },
  {
   "cell_type": "code",
   "execution_count": 167,
   "metadata": {},
   "outputs": [
    {
     "data": {
      "text/plain": [
       "array([[-1.],\n",
       "       [-1.],\n",
       "       [-1.],\n",
       "       ...,\n",
       "       [ 1.],\n",
       "       [-1.],\n",
       "       [-1.]])"
      ]
     },
     "execution_count": 167,
     "metadata": {},
     "output_type": "execute_result"
    }
   ],
   "source": [
    "y_total.reshape(-1, 1)"
   ]
  },
  {
   "cell_type": "code",
   "execution_count": 168,
   "metadata": {},
   "outputs": [
    {
     "name": "stdout",
     "output_type": "stream",
     "text": [
      "350000\n"
     ]
    }
   ],
   "source": [
    "ids_total = np.arange(len(y_total))\n",
    "ids_total += the_minimum\n",
    "\n",
    "print(ids_total[0])"
   ]
  },
  {
   "cell_type": "code",
   "execution_count": 169,
   "metadata": {},
   "outputs": [],
   "source": [
    "OUTPUT_PATH = 'Data/doto.csv' # TODO: fill in desired name of output file for submission\n",
    "create_csv_submission(ids_total, y_total, OUTPUT_PATH)"
   ]
  },
  {
   "cell_type": "code",
   "execution_count": null,
   "metadata": {},
   "outputs": [],
   "source": []
  }
 ],
 "metadata": {
  "anaconda-cloud": {},
  "kernelspec": {
   "display_name": "Python 3",
   "language": "python",
   "name": "python3"
  },
  "language_info": {
   "codemirror_mode": {
    "name": "ipython",
    "version": 3
   },
   "file_extension": ".py",
   "mimetype": "text/x-python",
   "name": "python",
   "nbconvert_exporter": "python",
   "pygments_lexer": "ipython3",
   "version": "3.8.3"
  }
 },
 "nbformat": 4,
 "nbformat_minor": 1
}
